{
  "nbformat": 4,
  "nbformat_minor": 0,
  "metadata": {
    "colab": {
      "provenance": []
    },
    "kernelspec": {
      "name": "python3",
      "display_name": "Python 3"
    },
    "language_info": {
      "name": "python"
    }
  },
  "cells": [
    {
      "cell_type": "markdown",
      "source": [
        "NAME : SONAL MALKAR\n",
        "\n",
        "DIV : TY-3\n",
        "\n",
        "ROLL NO : 36\n",
        "\n",
        "BATCH : B\n",
        "\n",
        "SUBJECT : DWM\n",
        "\n",
        "\n"
      ],
      "metadata": {
        "id": "1ZP_KAqegesS"
      }
    },
    {
      "cell_type": "markdown",
      "source": [
        "**Aim** :- Implementation of Association Rule Mining algorithm (Apriori)"
      ],
      "metadata": {
        "id": "VrP5pISFIxyt"
      }
    },
    {
      "cell_type": "markdown",
      "source": [
        "**Introduction** :-\n",
        "*  Association Rule Mining: Discovers relationships between items in a dataset.\n",
        "\n",
        "*  Apriori Algorithm: A popular algorithm for association rule mining based on frequent itemsets.\n",
        "\n",
        "*  Frequent Itemsets: Sets of items frequently occurring together in a dataset.\n",
        "\n",
        "Two-Step Process:\n",
        "\n",
        "*  Frequent Itemset Generation: Finds itemsets meeting\n",
        "a minimum support threshold.\n",
        "\n",
        "*  Rule Generation: Creates association rules from frequent itemsets (e.g., \"if milk, then bread\").\n",
        "\n",
        "\n"
      ],
      "metadata": {
        "id": "RmeUAjQsJPhI"
      }
    },
    {
      "cell_type": "markdown",
      "source": [
        "**Procedure** :-\n",
        "*  Import the necessary libraries:\n",
        "*  Define a function to get frequent itemsets\n",
        "*  Define a function to generate candidate itemsets\n",
        "*  Define the Apriori algorithm\n",
        "*  Use the Apriori algorithm to find frequent itemsets\n",
        "\n"
      ],
      "metadata": {
        "id": "57ARb9wlKa04"
      }
    },
    {
      "cell_type": "code",
      "execution_count": null,
      "metadata": {
        "colab": {
          "base_uri": "https://localhost:8080/"
        },
        "id": "sz-tLyeIHynn",
        "outputId": "2c9c174a-ccf1-451e-a87d-cf4be9d979ca"
      },
      "outputs": [
        {
          "output_type": "stream",
          "name": "stdout",
          "text": [
            "[{'milk': 4, 'bread': 5, 'butter': 5}, {('milk', 'bread'): 3, ('milk', 'butter'): 3, ('bread', 'butter'): 4}]\n"
          ]
        }
      ],
      "source": [
        "from itertools import combinations\n",
        "\n",
        "# Function to get frequent itemsets based on minimum support\n",
        "def get_frequent_itemsets(transactions, min_support):\n",
        "    itemsets = {}\n",
        "    for transaction in transactions:\n",
        "        for item in transaction:\n",
        "            if item in itemsets:\n",
        "                itemsets[item] += 1\n",
        "            else:\n",
        "                itemsets[item] = 1\n",
        "\n",
        "    # Filter itemsets to only include those that meet or exceed the minimum support\n",
        "    frequent_itemsets = {item: support for item, support in itemsets.items() if support >= min_support}\n",
        "    return frequent_itemsets\n",
        "\n",
        "# Function to generate candidate itemsets of size k\n",
        "def get_candidate_itemsets(frequent_itemsets, k):\n",
        "    candidates = []\n",
        "    frequent_items = list(frequent_itemsets.keys())\n",
        "    for combination in combinations(frequent_items, k):\n",
        "        candidates.append(combination)\n",
        "    return candidates\n",
        "\n",
        "# Apriori algorithm to find all frequent itemsets\n",
        "def apriori(transactions, min_support):\n",
        "    k = 1\n",
        "    # Initial set of frequent itemsets\n",
        "    frequent_itemsets = get_frequent_itemsets(transactions, min_support)\n",
        "    all_frequent_itemsets = [frequent_itemsets]\n",
        "\n",
        "    # Iterate to find larger itemsets\n",
        "    while frequent_itemsets:\n",
        "        k += 1\n",
        "        # Generate candidate itemsets of size k\n",
        "        candidates = get_candidate_itemsets(frequent_itemsets, k)\n",
        "        candidate_supports = {candidate: 0 for candidate in candidates}\n",
        "\n",
        "        # Calculate support for each candidate itemset\n",
        "        for transaction in transactions:\n",
        "            for candidate in candidates:\n",
        "                if set(candidate).issubset(set(transaction)):\n",
        "                    candidate_supports[candidate] += 1\n",
        "\n",
        "        # Filter candidate itemsets to only include those that meet or exceed the minimum support\n",
        "        frequent_itemsets = {itemset: support for itemset, support in candidate_supports.items() if support >= min_support}\n",
        "        if frequent_itemsets:\n",
        "            all_frequent_itemsets.append(frequent_itemsets)\n",
        "\n",
        "    return all_frequent_itemsets\n",
        "\n",
        "# Example usage\n",
        "transactions = [\n",
        "    ['milk', 'bread', 'butter'],\n",
        "    ['bread', 'butter'],\n",
        "    ['milk', 'bread'],\n",
        "    ['milk', 'butter'],\n",
        "    ['bread', 'butter'],\n",
        "    ['milk', 'bread', 'butter']\n",
        "]\n",
        "\n",
        "min_support = 2\n",
        "frequent_itemsets = apriori(transactions, min_support)\n",
        "print(frequent_itemsets)"
      ]
    },
    {
      "cell_type": "markdown",
      "source": [
        "**Review Questions:**\n",
        "\n",
        "1)What is the Apriori algorithm in Association Rule Mining?\n",
        "\n",
        "Ans:It is an algorithm that finds frequent itemsets using support and generates association rules based on confidence and lift.\n",
        "\n",
        "2)What is the significance of support, confidence, and lift in Apriori?\n",
        "\n",
        "Ans:Support: Measures frequency of an itemset.\n",
        "\n",
        "Confidence: Indicates the reliability of a rule.\n",
        "\n",
        "Lift: Evaluates the rule's importance compared to random chance."
      ],
      "metadata": {
        "id": "QoeuX9kvWeV6"
      }
    },
    {
      "cell_type": "markdown",
      "source": [
        "\n",
        "Github link: https://github.com/sonal183/DWM.git"
      ],
      "metadata": {
        "id": "F5rc8hqfaGFs"
      }
    },
    {
      "cell_type": "markdown",
      "source": [
        "**Conclusion** :- The Apriori algorithm effectively identifies frequent itemsets and generates association rules from transactional data. By using a minimum support threshold, it efficiently finds significant relationships between items. Implementing it in Python allows for a structured approach, uncovering hidden patterns and leading to valuable insights for decision-making in various domains. The Apriori algorithm is a fundamental and practical technique for association rule mining, offering a powerful solution for discovering knowledge from large datasets."
      ],
      "metadata": {
        "id": "TaMsc0v5LeyQ"
      }
    }
  ]
}